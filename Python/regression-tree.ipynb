{
 "cells": [
  {
   "cell_type": "markdown",
   "metadata": {},
   "source": [
    "# Regression Tree\n",
    "* Supervised learning\n",
    "* Simple to understand and interpret\n",
    "* Able to handle both numerical and categorical data. Other techniques are usually specialised in analysing datasets that have only one type of variable. (For example, relation rules can be used only with nominal variables while neural networks can be used only with numerical variables or categoricals converted to 0-1 values)\n",
    "* Requires little data preparation. Other techniques often require data normalization. Since trees can handle qualitative predictors, there is no need to create dummy variables\n",
    "* Uses a white box model. If a given situation is observable in a model the explanation for the condition is easily explained by boolean logic. By contrast, in a black box model, the explanation for the results is typically difficult to understand, for example with an artificial neural network\n",
    "* Possible to validate a model using statistical tests. That makes it possible to account for the reliability of the model.\n",
    "* Non-statistical approach that makes no assumptions of the training data or prediction residuals; e.g., no distributional, independence, or constant variance assumptions\n",
    "* Performs well with large datasets. Large amounts of data can be analysed using standard computing resources in reasonable time.\n",
    "* Mirrors human decision making more closely than other approaches. This could be useful when modeling human decisions/behavior\n",
    "* Robust against co-linearity, particularly boosting\n",
    "* In built feature selection. Additional irrelevant feature will be less used so that they can be removed on subsequent runs\n",
    "\n",
    "## Limitations\n",
    "* Trees do not tend to be as accurate as other approaches\n",
    "* Trees can be very non-robust. A small change in the training data can result in a big change in the tree, and thus a big change in final predictions\n",
    "* The problem of learning an optimal decision tree is known to be NP-complete under several aspects of optimality and even for simple concepts. Consequently, practical decision-tree learning algorithms are based on heuristics such as the greedy algorithm where locally-optimal decisions are made at each node. Such algorithms cannot guarantee to return the globally-optimal decision tree. To reduce the greedy effect of local-optimality some methods such as the dual information distance (DID) tree were proposed\n",
    "* For data including categorical variables with different numbers of levels, information gain in decision trees is biased in favor of those attributes with more levels"
   ]
  },
  {
   "cell_type": "markdown",
   "metadata": {},
   "source": [
    "## Imports and Definitions"
   ]
  },
  {
   "cell_type": "code",
   "execution_count": 10,
   "metadata": {},
   "outputs": [],
   "source": [
    "import numpy as np\n",
    "from sklearn.tree import DecisionTreeRegressor\n",
    "import os"
   ]
  },
  {
   "cell_type": "code",
   "execution_count": 11,
   "metadata": {},
   "outputs": [],
   "source": [
    "def input_dir():\n",
    "    return os.getcwd() + '/'\n",
    "\n",
    "def output_dir():\n",
    "    return os.getcwd() + '/'"
   ]
  },
  {
   "cell_type": "markdown",
   "metadata": {},
   "source": [
    "## Get data"
   ]
  },
  {
   "cell_type": "code",
   "execution_count": 12,
   "metadata": {},
   "outputs": [],
   "source": [
    "rdata = open(input_dir() + 'data.csv', 'r+')"
   ]
  },
  {
   "cell_type": "markdown",
   "metadata": {},
   "source": [
    "### Adjust data"
   ]
  },
  {
   "cell_type": "code",
   "execution_count": 13,
   "metadata": {},
   "outputs": [
    {
     "data": {
      "text/plain": [
       "[[180.0, 8.0, 3070.0, 1300.0, 3504.0, 120.0],\n",
       " [150.0, 8.0, 3500.0, 1650.0, 3693.0, 115.0],\n",
       " [180.0, 8.0, 3180.0, 1500.0, 3436.0, 110.0],\n",
       " [160.0, 8.0, 3040.0, 1500.0, 3433.0, 120.0],\n",
       " [170.0, 8.0, 3020.0, 1400.0, 3449.0, 105.0],\n",
       " [150.0, 8.0, 4290.0, 1980.0, 4341.0, 100.0],\n",
       " [140.0, 8.0, 4540.0, 2200.0, 4354.0, 90.0],\n",
       " [140.0, 8.0, 4400.0, 2150.0, 4312.0, 85.0],\n",
       " [140.0, 8.0, 4550.0, 2250.0, 4425.0, 100.0],\n",
       " [150.0, 8.0, 3900.0, 1900.0, 3850.0, 85.0],\n",
       " [150.0, 8.0, 3830.0, 1700.0, 3563.0, 100.0],\n",
       " [140.0, 8.0, 3400.0, 1600.0, 3609.0, 80.0],\n",
       " [150.0, 8.0, 4000.0, 1500.0, 3761.0, 95.0],\n",
       " [140.0, 8.0, 4550.0, 2250.0, 3086.0, 100.0],\n",
       " [240.0, 4.0, 1130.0, 9500.0, 2372.0, 150.0],\n",
       " [220.0, 6.0, 1980.0, 9500.0, 2833.0, 155.0],\n",
       " [180.0, 6.0, 1990.0, 9700.0, 2774.0, 155.0],\n",
       " [210.0, 6.0, 2000.0, 8500.0, 2587.0, 160.0],\n",
       " [270.0, 4.0, 9700.0, 8800.0, 2130.0, 145.0],\n",
       " [260.0, 4.0, 9700.0, 4600.0, 1835.0, 205.0]]"
      ]
     },
     "execution_count": 13,
     "metadata": {},
     "output_type": "execute_result"
    }
   ],
   "source": [
    "data = []\n",
    "for line in rdata:\n",
    "    # Remove \\n\n",
    "    line = line.rstrip()\n",
    "    data.append([float(x) for x in line.split(',')])\n",
    "data"
   ]
  },
  {
   "cell_type": "code",
   "execution_count": 14,
   "metadata": {},
   "outputs": [],
   "source": [
    "for i in range(len(data)):\n",
    "    data[i] = [float(x) for x in data[i]]\n",
    "\n",
    "data = np.array(data)\n",
    "X = data[:,0:-1]\n",
    "Y = data[:,-1]"
   ]
  },
  {
   "cell_type": "markdown",
   "metadata": {},
   "source": [
    "## Regression Tree"
   ]
  },
  {
   "cell_type": "code",
   "execution_count": 15,
   "metadata": {},
   "outputs": [
    {
     "name": "stdout",
     "output_type": "stream",
     "text": [
      "[205.]\n"
     ]
    }
   ],
   "source": [
    "regr = DecisionTreeRegressor(max_depth=3)\n",
    "regr.fit(X, Y)\n",
    "\n",
    "X_test = [[245.,4.,9700.,4600.,1835.]]\n",
    "y = regr.predict(X_test)\n",
    "\n",
    "print (y)"
   ]
  },
  {
   "cell_type": "code",
   "execution_count": null,
   "metadata": {},
   "outputs": [],
   "source": []
  }
 ],
 "metadata": {
  "kernelspec": {
   "display_name": "Python 3",
   "language": "python",
   "name": "python3"
  },
  "language_info": {
   "codemirror_mode": {
    "name": "ipython",
    "version": 3
   },
   "file_extension": ".py",
   "mimetype": "text/x-python",
   "name": "python",
   "nbconvert_exporter": "python",
   "pygments_lexer": "ipython3",
   "version": "3.6.5"
  }
 },
 "nbformat": 4,
 "nbformat_minor": 2
}
