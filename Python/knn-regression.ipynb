{
 "cells": [
  {
   "cell_type": "markdown",
   "metadata": {},
   "source": [
    "# KNN \n",
    "* Supervised learning\n",
    "* Used for **classification** and **regression**\n",
    "* It's used for classification and regression of **known data** where usually the target attribute/variable is known before hand\n",
    "* KNN doesn’t have a training phase as such. But the prediction of a test observation is done based on the K-Nearest (often euclidean distance) Neighbours (observations) based on weighted averages/votes"
   ]
  },
  {
   "cell_type": "markdown",
   "metadata": {},
   "source": [
    "## Imports and definitions"
   ]
  },
  {
   "cell_type": "code",
   "execution_count": 17,
   "metadata": {},
   "outputs": [],
   "source": [
    "import numpy as np\n",
    "from sklearn import neighbors\n",
    "import os"
   ]
  },
  {
   "cell_type": "code",
   "execution_count": 20,
   "metadata": {},
   "outputs": [],
   "source": [
    "def input_dir():\n",
    "    return os.getcwd() + '/'\n",
    "\n",
    "def output_dir():\n",
    "    return os.getcwd() + '/'"
   ]
  },
  {
   "cell_type": "markdown",
   "metadata": {},
   "source": [
    "## Get data"
   ]
  },
  {
   "cell_type": "code",
   "execution_count": 83,
   "metadata": {},
   "outputs": [],
   "source": [
    "rdata = open(input_dir() + 'data.csv', 'r+')"
   ]
  },
  {
   "cell_type": "markdown",
   "metadata": {},
   "source": [
    "### Adjust data"
   ]
  },
  {
   "cell_type": "code",
   "execution_count": 81,
   "metadata": {},
   "outputs": [
    {
     "data": {
      "text/plain": [
       "[[180.0, 8.0, 3070.0, 1300.0, 3504.0, 120.0],\n",
       " [150.0, 8.0, 3500.0, 1650.0, 3693.0, 115.0],\n",
       " [180.0, 8.0, 3180.0, 1500.0, 3436.0, 110.0],\n",
       " [160.0, 8.0, 3040.0, 1500.0, 3433.0, 120.0],\n",
       " [170.0, 8.0, 3020.0, 1400.0, 3449.0, 105.0],\n",
       " [150.0, 8.0, 4290.0, 1980.0, 4341.0, 100.0],\n",
       " [140.0, 8.0, 4540.0, 2200.0, 4354.0, 90.0],\n",
       " [140.0, 8.0, 4400.0, 2150.0, 4312.0, 85.0],\n",
       " [140.0, 8.0, 4550.0, 2250.0, 4425.0, 100.0],\n",
       " [150.0, 8.0, 3900.0, 1900.0, 3850.0, 85.0],\n",
       " [150.0, 8.0, 3830.0, 1700.0, 3563.0, 100.0],\n",
       " [140.0, 8.0, 3400.0, 1600.0, 3609.0, 80.0],\n",
       " [150.0, 8.0, 4000.0, 1500.0, 3761.0, 95.0],\n",
       " [140.0, 8.0, 4550.0, 2250.0, 3086.0, 100.0],\n",
       " [240.0, 4.0, 1130.0, 9500.0, 2372.0, 150.0],\n",
       " [220.0, 6.0, 1980.0, 9500.0, 2833.0, 155.0],\n",
       " [180.0, 6.0, 1990.0, 9700.0, 2774.0, 155.0],\n",
       " [210.0, 6.0, 2000.0, 8500.0, 2587.0, 160.0],\n",
       " [270.0, 4.0, 9700.0, 8800.0, 2130.0, 145.0],\n",
       " [260.0, 4.0, 9700.0, 4600.0, 1835.0, 205.0]]"
      ]
     },
     "execution_count": 81,
     "metadata": {},
     "output_type": "execute_result"
    }
   ],
   "source": [
    "data = []\n",
    "for line in rdata:\n",
    "    # Remove \\n\n",
    "    line = line.rstrip()\n",
    "    data.append([float(x) for x in line.split(',')])\n",
    "data"
   ]
  },
  {
   "cell_type": "code",
   "execution_count": 84,
   "metadata": {},
   "outputs": [
    {
     "name": "stdout",
     "output_type": "stream",
     "text": [
      "[[1.800e+02 8.000e+00 3.070e+03 1.300e+03 3.504e+03]\n",
      " [1.500e+02 8.000e+00 3.500e+03 1.650e+03 3.693e+03]\n",
      " [1.800e+02 8.000e+00 3.180e+03 1.500e+03 3.436e+03]\n",
      " [1.600e+02 8.000e+00 3.040e+03 1.500e+03 3.433e+03]\n",
      " [1.700e+02 8.000e+00 3.020e+03 1.400e+03 3.449e+03]\n",
      " [1.500e+02 8.000e+00 4.290e+03 1.980e+03 4.341e+03]\n",
      " [1.400e+02 8.000e+00 4.540e+03 2.200e+03 4.354e+03]\n",
      " [1.400e+02 8.000e+00 4.400e+03 2.150e+03 4.312e+03]\n",
      " [1.400e+02 8.000e+00 4.550e+03 2.250e+03 4.425e+03]\n",
      " [1.500e+02 8.000e+00 3.900e+03 1.900e+03 3.850e+03]\n",
      " [1.500e+02 8.000e+00 3.830e+03 1.700e+03 3.563e+03]\n",
      " [1.400e+02 8.000e+00 3.400e+03 1.600e+03 3.609e+03]\n",
      " [1.500e+02 8.000e+00 4.000e+03 1.500e+03 3.761e+03]\n",
      " [1.400e+02 8.000e+00 4.550e+03 2.250e+03 3.086e+03]\n",
      " [2.400e+02 4.000e+00 1.130e+03 9.500e+03 2.372e+03]\n",
      " [2.200e+02 6.000e+00 1.980e+03 9.500e+03 2.833e+03]\n",
      " [1.800e+02 6.000e+00 1.990e+03 9.700e+03 2.774e+03]\n",
      " [2.100e+02 6.000e+00 2.000e+03 8.500e+03 2.587e+03]\n",
      " [2.700e+02 4.000e+00 9.700e+03 8.800e+03 2.130e+03]\n",
      " [2.600e+02 4.000e+00 9.700e+03 4.600e+03 1.835e+03]]\n",
      "[120. 115. 110. 120. 105. 100.  90.  85. 100.  85. 100.  80.  95. 100.\n",
      " 150. 155. 155. 160. 145. 205.]\n"
     ]
    }
   ],
   "source": [
    "# for i in range(len(data)):\n",
    "#     data[i] = [float(x) for x in data[i]]\n",
    "\n",
    "data = np.array(data)\n",
    "X = data[:,0:-1]\n",
    "Y = data[:,-1]\n",
    "\n",
    "print (X)\n",
    "print (Y)"
   ]
  },
  {
   "cell_type": "markdown",
   "metadata": {},
   "source": [
    "## KNN"
   ]
  },
  {
   "cell_type": "code",
   "execution_count": 85,
   "metadata": {},
   "outputs": [
    {
     "name": "stdout",
     "output_type": "stream",
     "text": [
      "[203.99552692]\n"
     ]
    }
   ],
   "source": [
    "n_neighbors = 5\n",
    "knn = neighbors.KNeighborsRegressor(n_neighbors, weights='distance')\n",
    "y = knn.fit(X, Y).predict([[245.,4.,9700.,4600.,1835.]])\n",
    "\n",
    "print (y)"
   ]
  },
  {
   "cell_type": "code",
   "execution_count": null,
   "metadata": {},
   "outputs": [],
   "source": []
  }
 ],
 "metadata": {
  "kernelspec": {
   "display_name": "Python 3",
   "language": "python",
   "name": "python3"
  },
  "language_info": {
   "codemirror_mode": {
    "name": "ipython",
    "version": 3
   },
   "file_extension": ".py",
   "mimetype": "text/x-python",
   "name": "python",
   "nbconvert_exporter": "python",
   "pygments_lexer": "ipython3",
   "version": "3.6.5"
  }
 },
 "nbformat": 4,
 "nbformat_minor": 2
}
