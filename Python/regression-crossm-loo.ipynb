{
 "cells": [
  {
   "cell_type": "markdown",
   "metadata": {},
   "source": [
    "# Linear Regression with Cross Validation Leave-One-Out\n",
    "* Supervised learning\n"
   ]
  },
  {
   "cell_type": "markdown",
   "metadata": {},
   "source": [
    "## Imports and Definitions"
   ]
  },
  {
   "cell_type": "code",
   "execution_count": 17,
   "metadata": {},
   "outputs": [],
   "source": [
    "import numpy as np\n",
    "from sklearn import cross_validation\n",
    "from sklearn import linear_model\n",
    "import os"
   ]
  },
  {
   "cell_type": "code",
   "execution_count": 18,
   "metadata": {},
   "outputs": [],
   "source": [
    "def input_dir():\n",
    "    return os.getcwd() + '/'\n",
    "\n",
    "def output_dir():\n",
    "    return os.getcwd() + '/'"
   ]
  },
  {
   "cell_type": "markdown",
   "metadata": {},
   "source": [
    "## Get data"
   ]
  },
  {
   "cell_type": "code",
   "execution_count": 19,
   "metadata": {},
   "outputs": [],
   "source": [
    "rdata = open(input_dir() + 'data.csv', 'r+')"
   ]
  },
  {
   "cell_type": "markdown",
   "metadata": {},
   "source": [
    "### Adjust data"
   ]
  },
  {
   "cell_type": "code",
   "execution_count": 20,
   "metadata": {},
   "outputs": [
    {
     "data": {
      "text/plain": [
       "[[180.0, 8.0, 3070.0, 1300.0, 3504.0, 120.0],\n",
       " [150.0, 8.0, 3500.0, 1650.0, 3693.0, 115.0],\n",
       " [180.0, 8.0, 3180.0, 1500.0, 3436.0, 110.0],\n",
       " [160.0, 8.0, 3040.0, 1500.0, 3433.0, 120.0],\n",
       " [170.0, 8.0, 3020.0, 1400.0, 3449.0, 105.0],\n",
       " [150.0, 8.0, 4290.0, 1980.0, 4341.0, 100.0],\n",
       " [140.0, 8.0, 4540.0, 2200.0, 4354.0, 90.0],\n",
       " [140.0, 8.0, 4400.0, 2150.0, 4312.0, 85.0],\n",
       " [140.0, 8.0, 4550.0, 2250.0, 4425.0, 100.0],\n",
       " [150.0, 8.0, 3900.0, 1900.0, 3850.0, 85.0],\n",
       " [150.0, 8.0, 3830.0, 1700.0, 3563.0, 100.0],\n",
       " [140.0, 8.0, 3400.0, 1600.0, 3609.0, 80.0],\n",
       " [150.0, 8.0, 4000.0, 1500.0, 3761.0, 95.0],\n",
       " [140.0, 8.0, 4550.0, 2250.0, 3086.0, 100.0],\n",
       " [240.0, 4.0, 1130.0, 9500.0, 2372.0, 150.0],\n",
       " [220.0, 6.0, 1980.0, 9500.0, 2833.0, 155.0],\n",
       " [180.0, 6.0, 1990.0, 9700.0, 2774.0, 155.0],\n",
       " [210.0, 6.0, 2000.0, 8500.0, 2587.0, 160.0],\n",
       " [270.0, 4.0, 9700.0, 8800.0, 2130.0, 145.0],\n",
       " [260.0, 4.0, 9700.0, 4600.0, 1835.0, 205.0]]"
      ]
     },
     "execution_count": 20,
     "metadata": {},
     "output_type": "execute_result"
    }
   ],
   "source": [
    "data = []\n",
    "for line in rdata:\n",
    "    # Remove \\n\n",
    "    line = line.rstrip()\n",
    "    data.append([float(x) for x in line.split(',')])\n",
    "data"
   ]
  },
  {
   "cell_type": "code",
   "execution_count": 21,
   "metadata": {},
   "outputs": [],
   "source": [
    "for i in range(len(data)):\n",
    "    data[i] = [float(x) for x in data[i]]\n",
    "\n",
    "data = np.array(data)\n",
    "X = data[:,0:-1]\n",
    "Y = data[:,-1]"
   ]
  },
  {
   "cell_type": "markdown",
   "metadata": {},
   "source": [
    "## Regression"
   ]
  },
  {
   "cell_type": "code",
   "execution_count": 23,
   "metadata": {},
   "outputs": [
    {
     "name": "stdout",
     "output_type": "stream",
     "text": [
      "0.0\n",
      "[ 2.10831725e-01 -4.39462230e+00 -4.98372306e-04  7.41600913e-04\n",
      " -1.75630189e-02]\n",
      "170.74686547490546\n",
      "Residual sum of squares: 73.395931\n",
      "0.0\n",
      "[ 2.89234130e-01 -2.80983974e+00 -5.99579369e-04  7.78120865e-04\n",
      " -1.67547161e-02]\n",
      "142.9781820727216\n",
      "Residual sum of squares: 190.583856\n",
      "0.0\n",
      "[ 3.16746579e-01 -2.12678670e+00 -8.41022993e-04  4.62200309e-04\n",
      " -1.73112540e-02]\n",
      "138.35030375480565\n",
      "Residual sum of squares: 47.441416\n",
      "0.0\n",
      "[ 2.65135165e-01 -3.53295754e+00 -4.93581112e-04  8.28321027e-04\n",
      " -1.60877538e-02]\n",
      "149.59937590050708\n",
      "Residual sum of squares: 137.591067\n",
      "0.0\n",
      "[ 3.02097817e-01 -2.55004002e+00 -9.14775742e-04  3.52908051e-04\n",
      " -1.76668716e-02]\n",
      "145.92742362047034\n",
      "Residual sum of squares: 75.379566\n",
      "0.0\n",
      "[ 2.48024268e-01 -2.89438123e+00 -7.81236483e-04  5.16918249e-04\n",
      " -2.02408635e-02]\n",
      "164.38291511028743\n",
      "Residual sum of squares: 138.346748\n",
      "0.0\n",
      "[ 2.73690103e-01 -3.05150983e+00 -7.64108289e-04  5.23766976e-04\n",
      " -1.78639436e-02]\n",
      "153.32817869891716\n",
      "Residual sum of squares: 8.200552\n",
      "0.0\n",
      "[ 2.64854681e-01 -3.56944801e+00 -6.59567527e-04  5.83916729e-04\n",
      " -1.64680635e-02]\n",
      "153.58182027981346\n",
      "Residual sum of squares: 19.792939\n",
      "0.0\n",
      "[ 2.83303838e-01 -1.99728266e+00 -1.01180212e-03  3.44476315e-04\n",
      " -2.14972892e-02]\n",
      "157.29489950329454\n",
      "Residual sum of squares: 323.099085\n",
      "0.0\n",
      "[ 2.62506300e-01 -3.35856388e+00 -6.69355825e-04  5.13572593e-04\n",
      " -1.68709381e-02]\n",
      "154.71845489093113\n",
      "Residual sum of squares: 244.549460\n",
      "0.0\n",
      "[ 2.60796375e-01 -3.23482569e+00 -7.04106333e-04  5.16601102e-04\n",
      " -1.78028940e-02]\n",
      "156.86724497021552\n",
      "Residual sum of squares: 23.598989\n",
      "0.0\n",
      "[ 1.47053686e-01 -5.69862467e+00 -9.49971733e-04 -1.94121302e-05\n",
      " -2.04703070e-02]\n",
      "207.3839044289472\n",
      "Residual sum of squares: 637.265687\n",
      "0.0\n",
      "[ 2.63610264e-01 -3.39570874e+00 -7.18963103e-04  4.78216774e-04\n",
      " -1.73744114e-02]\n",
      "156.34342424714367\n",
      "Residual sum of squares: 38.633752\n",
      "0.0\n",
      "[ 1.34817405e-01 -2.12162563e+00  8.84207569e-06  9.60578346e-04\n",
      " -2.45960113e-02]\n",
      "190.16689646574116\n",
      "Residual sum of squares: 337.330896\n",
      "0.0\n",
      "[-4.74056446e-02 -5.15797830e+01 -1.32516646e-02 -9.34557371e-03\n",
      "  6.48627252e-04]\n",
      "585.0046245979861\n",
      "Residual sum of squares: 13245.558609\n",
      "0.0\n",
      "[ 1.94665535e-01 -6.19028096e+00 -7.84992221e-04 -3.27548954e-04\n",
      " -1.80672786e-02]\n",
      "193.03950407211397\n",
      "Residual sum of squares: 147.048697\n",
      "0.0\n",
      "[ 4.71867026e-01 -3.35613330e+00 -1.19132821e-03 -1.45891896e-03\n",
      " -1.21204257e-02]\n",
      "109.0357741477645\n",
      "Residual sum of squares: 980.270951\n",
      "0.0\n",
      "[ 2.48337846e-01 -5.06263621e+00 -6.18197380e-04 -3.88735932e-05\n",
      " -1.59213103e-02]\n",
      "166.4876458117611\n",
      "Residual sum of squares: 210.031794\n",
      "0.0\n",
      "[ 6.18866490e-01  1.12899387e+01  6.56463223e-03  5.86220978e-03\n",
      " -1.31556364e-02]\n",
      "-70.11749546429861\n",
      "Residual sum of squares: 7119.829900\n",
      "0.0\n",
      "[ 4.55779778e-01  1.37809990e+01 -2.13046456e-03  6.50293664e-03\n",
      " -7.59078355e-03]\n",
      "-54.31468551866371\n",
      "Residual sum of squares: 8166.562084\n",
      "0.0\n"
     ]
    }
   ],
   "source": [
    "n = len(X)\n",
    "loo = cross_validation.LeaveOneOut(n)\n",
    "ssum = 0\n",
    "for train, test in loo:\n",
    "    X_train, X_test = X[train], X[test]\n",
    "    Y_train, Y_test = Y[train], Y[test]\n",
    "\n",
    "    regr = linear_model.LinearRegression()\n",
    "    regr.fit(X_train, Y_train)\n",
    "    print (regr.score(X_test, Y_test))\n",
    "    print (regr.coef_)\n",
    "    print (regr.intercept_)\n",
    "    print (\"Residual sum of squares: %f\" % np.mean((regr.predict(X_test) - Y_test) ** 2))\n",
    "    ssum += regr.score(X_test, Y_test)\n",
    "\n",
    "print (ssum)"
   ]
  },
  {
   "cell_type": "code",
   "execution_count": 29,
   "metadata": {},
   "outputs": [
    {
     "name": "stdout",
     "output_type": "stream",
     "text": [
      "[112.81805447]\n"
     ]
    }
   ],
   "source": [
    "y = regr.predict([[180,8,3000,1200,3500]])\n",
    "print(y)"
   ]
  },
  {
   "cell_type": "code",
   "execution_count": null,
   "metadata": {},
   "outputs": [],
   "source": []
  }
 ],
 "metadata": {
  "kernelspec": {
   "display_name": "Python 3",
   "language": "python",
   "name": "python3"
  },
  "language_info": {
   "codemirror_mode": {
    "name": "ipython",
    "version": 3
   },
   "file_extension": ".py",
   "mimetype": "text/x-python",
   "name": "python",
   "nbconvert_exporter": "python",
   "pygments_lexer": "ipython3",
   "version": "3.6.5"
  }
 },
 "nbformat": 4,
 "nbformat_minor": 2
}
