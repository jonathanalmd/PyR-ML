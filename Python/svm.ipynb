{
 "cells": [
  {
   "cell_type": "markdown",
   "metadata": {},
   "source": [
    "# SVM\n",
    "* Supervised learning\n",
    "* Classification"
   ]
  },
  {
   "cell_type": "markdown",
   "metadata": {},
   "source": [
    "## Imports and Definitions"
   ]
  },
  {
   "cell_type": "code",
   "execution_count": 76,
   "metadata": {},
   "outputs": [],
   "source": [
    "import numpy as np\n",
    "import matplotlib.pyplot as plt\n",
    "from sklearn import svm\n",
    "import os\n"
   ]
  },
  {
   "cell_type": "code",
   "execution_count": 77,
   "metadata": {},
   "outputs": [],
   "source": [
    "def input_dir():\n",
    "    return os.getcwd() + '/'\n",
    "\n",
    "def output_dir():\n",
    "    return os.getcwd() + '/'"
   ]
  },
  {
   "cell_type": "markdown",
   "metadata": {},
   "source": [
    "## Get data"
   ]
  },
  {
   "cell_type": "code",
   "execution_count": 78,
   "metadata": {},
   "outputs": [],
   "source": [
    "rdata = open(input_dir() + 'data.csv', 'r+')"
   ]
  },
  {
   "cell_type": "markdown",
   "metadata": {},
   "source": [
    "### Adjust data"
   ]
  },
  {
   "cell_type": "code",
   "execution_count": 79,
   "metadata": {},
   "outputs": [
    {
     "data": {
      "text/plain": [
       "[[180.0, 8.0, 3070.0, 1300.0, 3504.0, 2],\n",
       " [150.0, 8.0, 3500.0, 1650.0, 3693.0, 2],\n",
       " [180.0, 8.0, 3180.0, 1500.0, 3436.0, 2],\n",
       " [160.0, 8.0, 3040.0, 1500.0, 3433.0, 2],\n",
       " [170.0, 8.0, 3020.0, 1400.0, 3449.0, 2],\n",
       " [150.0, 8.0, 4290.0, 1980.0, 4341.0, 2],\n",
       " [140.0, 8.0, 4540.0, 2200.0, 4354.0, 1],\n",
       " [140.0, 8.0, 4400.0, 2150.0, 4312.0, 1],\n",
       " [140.0, 8.0, 4550.0, 2250.0, 4425.0, 2],\n",
       " [150.0, 8.0, 3900.0, 1900.0, 3850.0, 1],\n",
       " [150.0, 8.0, 3830.0, 1700.0, 3563.0, 2],\n",
       " [140.0, 8.0, 3400.0, 1600.0, 3609.0, 1],\n",
       " [150.0, 8.0, 4000.0, 1500.0, 3761.0, 1],\n",
       " [140.0, 8.0, 4550.0, 2250.0, 3086.0, 2],\n",
       " [240.0, 4.0, 1130.0, 9500.0, 2372.0, 3],\n",
       " [220.0, 6.0, 1980.0, 9500.0, 2833.0, 3],\n",
       " [180.0, 6.0, 1990.0, 9700.0, 2774.0, 3],\n",
       " [210.0, 6.0, 2000.0, 8500.0, 2587.0, 3],\n",
       " [270.0, 4.0, 9700.0, 8800.0, 2130.0, 2],\n",
       " [260.0, 4.0, 9700.0, 4600.0, 1835.0, 3]]"
      ]
     },
     "execution_count": 79,
     "metadata": {},
     "output_type": "execute_result"
    }
   ],
   "source": [
    "data = []\n",
    "for line in rdata:\n",
    "    # Remove \\n\n",
    "    line = line.rstrip()\n",
    "    line = [float(x) for x in line.split(',')]\n",
    "    if int(line[-1]) < 100:\n",
    "        line[-1] = 1\n",
    "    elif int(line[-1]) < 150:\n",
    "        line[-1] = 2\n",
    "    else:\n",
    "        line[-1] = 3\n",
    "    data.append(line)\n",
    "data"
   ]
  },
  {
   "cell_type": "code",
   "execution_count": 86,
   "metadata": {},
   "outputs": [],
   "source": [
    "for i in range(len(data)):\n",
    "    data[i] = [float(x) for x in data[i]]\n",
    "\n",
    "data = np.array(data)\n",
    "X = data[:,0:-1]\n",
    "Y = data[:,-1]"
   ]
  },
  {
   "cell_type": "markdown",
   "metadata": {},
   "source": [
    "## SVM"
   ]
  },
  {
   "cell_type": "code",
   "execution_count": 87,
   "metadata": {},
   "outputs": [
    {
     "name": "stdout",
     "output_type": "stream",
     "text": [
      "[3.]\n"
     ]
    }
   ],
   "source": [
    "svm_model = svm.SVC(gamma=0.001, C=100)\n",
    "svm_model.fit(X,Y)\n",
    "\n",
    "X_test = [[245.,4.,9700.,4600.,1835.]]\n",
    "y = svm_model.predict(X_test)\n",
    "\n",
    "print (y)"
   ]
  },
  {
   "cell_type": "code",
   "execution_count": null,
   "metadata": {},
   "outputs": [],
   "source": []
  },
  {
   "cell_type": "code",
   "execution_count": null,
   "metadata": {},
   "outputs": [],
   "source": []
  },
  {
   "cell_type": "code",
   "execution_count": null,
   "metadata": {},
   "outputs": [],
   "source": []
  },
  {
   "cell_type": "code",
   "execution_count": null,
   "metadata": {},
   "outputs": [],
   "source": []
  }
 ],
 "metadata": {
  "kernelspec": {
   "display_name": "Python 3",
   "language": "python",
   "name": "python3"
  }
 },
 "nbformat": 4,
 "nbformat_minor": 2
}
